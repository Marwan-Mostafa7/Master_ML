{
 "cells": [
  {
   "cell_type": "markdown",
   "metadata": {},
   "source": [
    "# C-means algorithm"
   ]
  },
  {
   "cell_type": "code",
   "execution_count": 1,
   "metadata": {},
   "outputs": [],
   "source": [
    "import numpy as np\n",
    "from sympy import init_printing, symbols, Matrix, Eq, Rational, root\n",
    "from IPython.core.display import HTML\n",
    "init_printing()"
   ]
  },
  {
   "cell_type": "code",
   "execution_count": 2,
   "metadata": {},
   "outputs": [],
   "source": [
    "m = 2 ### let fuzziness factor = 2"
   ]
  },
  {
   "cell_type": "code",
   "execution_count": 3,
   "metadata": {},
   "outputs": [
    {
     "data": {
      "image/png": "[encoded data removed]",
      "text/latex": [
       "$\\displaystyle \\left[\\begin{matrix}1 & 2\\\\3 & 4\\end{matrix}\\right]$"
      ],
      "text/plain": [
       "⎡1  2⎤\n",
       "⎢    ⎥\n",
       "⎣3  4⎦"
      ]
     },
     "execution_count": 3,
     "metadata": {},
     "output_type": "execute_result"
    }
   ],
   "source": [
    "X = np.array([\n",
    "    [1, 2],\n",
    "    [3, 4]\n",
    "])\n",
    "\n",
    "Xm = Matrix(X)\n",
    "Xm"
   ]
  },
  {
   "cell_type": "code",
   "execution_count": 4,
   "metadata": {},
   "outputs": [
    {
     "data": {
      "image/png": "[encoded data removed]",
      "text/latex": [
       "$\\displaystyle \\left[\\begin{matrix}0.01\\\\2.4\\\\3.2\\end{matrix}\\right]$"
      ],
      "text/plain": [
       "⎡0.01⎤\n",
       "⎢    ⎥\n",
       "⎢2.4 ⎥\n",
       "⎢    ⎥\n",
       "⎣3.2 ⎦"
      ]
     },
     "execution_count": 4,
     "metadata": {},
     "output_type": "execute_result"
    }
   ],
   "source": [
    "C = np.array([0.01, 2.4, 3.2])\n",
    "Cm = Matrix(C)\n",
    "Cm"
   ]
  },
  {
   "cell_type": "markdown",
   "metadata": {},
   "source": [
    "### Creating Distance matrix\n",
    "$$ \\text{Distance between each point in matrix and each Center}$$\n",
    "$$ |x_{ij} - c_i|$$"
   ]
  },
  {
   "cell_type": "code",
   "execution_count": 5,
   "metadata": {},
   "outputs": [
    {
     "data": {
      "text/plain": [
       "array([[0., 0., 0., 0.],\n",
       "       [0., 0., 0., 0.],\n",
       "       [0., 0., 0., 0.]])"
      ]
     },
     "execution_count": 5,
     "metadata": {},
     "output_type": "execute_result"
    }
   ],
   "source": [
    "## initialize matrix with shape 3x4\n",
    "D = np.zeros((3, 4))\n",
    "D"
   ]
  },
  {
   "cell_type": "code",
   "execution_count": 6,
   "metadata": {},
   "outputs": [],
   "source": [
    "for i, x in enumerate(X.flatten()):\n",
    "    for j, c in enumerate(C):\n",
    "        D[j][i] = abs(x - c)"
   ]
  },
  {
   "cell_type": "code",
   "execution_count": 7,
   "metadata": {},
   "outputs": [
    {
     "data": {
      "image/png": "[encoded data removed]",
      "text/latex": [
       "$\\displaystyle \\left[\\begin{matrix}0.99 & 1.99 & 2.99 & 3.99\\\\1.4 & 0.4 & 0.6 & 1.6\\\\2.2 & 1.2 & 0.2 & 0.8\\end{matrix}\\right]$"
      ],
      "text/plain": [
       "⎡0.99  1.99  2.99  3.99⎤\n",
       "⎢                      ⎥\n",
       "⎢1.4   0.4   0.6   1.6 ⎥\n",
       "⎢                      ⎥\n",
       "⎣2.2   1.2   0.2   0.8 ⎦"
      ]
     },
     "execution_count": 7,
     "metadata": {},
     "output_type": "execute_result"
    }
   ],
   "source": [
    "Matrix(D)"
   ]
  },
  {
   "cell_type": "markdown",
   "metadata": {},
   "source": [
    "###  $$ Membership\\; matrix$$\n",
    "### $$ \\mu_{c*n} $$\n",
    "$$Shape (c x n)$$\n",
    "$$c:\\; num\\; of\\; centers$$\n",
    "$$n:\\; num\\; of\\; points\\;$$\n",
    "$$c = 3, n = 4$$\n",
    "$$ \\mu_{3*4} $$"
   ]
  },
  {
   "cell_type": "code",
   "execution_count": 8,
   "metadata": {},
   "outputs": [
    {
     "data": {
      "text/plain": [
       "array([[0., 0., 0., 0.],\n",
       "       [0., 0., 0., 0.],\n",
       "       [0., 0., 0., 0.]])"
      ]
     },
     "execution_count": 8,
     "metadata": {},
     "output_type": "execute_result"
    }
   ],
   "source": [
    "## initialize matrix with shape 3x4\n",
    "Mio = np.zeros((3, 4))\n",
    "Mio"
   ]
  },
  {
   "cell_type": "markdown",
   "metadata": {},
   "source": [
    "#### Update Membership matrix"
   ]
  },
  {
   "cell_type": "code",
   "execution_count": 9,
   "metadata": {},
   "outputs": [],
   "source": [
    "for c in range(D.shape[1]):\n",
    "    a= []\n",
    "    for d in D[:, c]:\n",
    "        s = 0\n",
    "        for i, _ in enumerate(D[:, 0]):\n",
    "            s += ((d**m) / D[i, 0]**m)\n",
    "        a.append(s)\n",
    "    norm = [round(float(i)/sum(a), 2) for i in a]\n",
    "    Mio[:, c] = norm"
   ]
  },
  {
   "cell_type": "code",
   "execution_count": 10,
   "metadata": {},
   "outputs": [
    {
     "data": {
      "image/png": "[encoded data removed]",
      "text/latex": [
       "$\\displaystyle \\left[\\begin{matrix}0.13 & 0.71 & 0.96 & 0.83\\\\0.25 & 0.03 & 0.04 & 0.13\\\\0.62 & 0.26 & 0.0 & 0.03\\end{matrix}\\right]$"
      ],
      "text/plain": [
       "⎡0.13  0.71  0.96  0.83⎤\n",
       "⎢                      ⎥\n",
       "⎢0.25  0.03  0.04  0.13⎥\n",
       "⎢                      ⎥\n",
       "⎣0.62  0.26  0.0   0.03⎦"
      ]
     },
     "execution_count": 10,
     "metadata": {},
     "output_type": "execute_result"
    }
   ],
   "source": [
    "Matrix(Mio)"
   ]
  },
  {
   "cell_type": "markdown",
   "metadata": {},
   "source": [
    "### Updating Centers"
   ]
  },
  {
   "cell_type": "markdown",
   "metadata": {},
   "source": [
    "$$ C = \\frac{\\Sigma \\mu_i^mX}{\\Sigma \\mu_i^m}$$"
   ]
  },
  {
   "cell_type": "code",
   "execution_count": 11,
   "metadata": {},
   "outputs": [
    {
     "data": {
      "image/png": "[encoded data removed]",
      "text/latex": [
       "$\\displaystyle \\left[\\begin{matrix}0.01\\\\2.4\\\\3.2\\end{matrix}\\right]$"
      ],
      "text/plain": [
       "⎡0.01⎤\n",
       "⎢    ⎥\n",
       "⎢2.4 ⎥\n",
       "⎢    ⎥\n",
       "⎣3.2 ⎦"
      ]
     },
     "execution_count": 11,
     "metadata": {},
     "output_type": "execute_result"
    }
   ],
   "source": [
    "## Old Centers\n",
    "Cm"
   ]
  },
  {
   "cell_type": "code",
   "execution_count": 12,
   "metadata": {},
   "outputs": [
    {
     "data": {
      "text/plain": [
       "array([0., 0., 0.])"
      ]
     },
     "execution_count": 12,
     "metadata": {},
     "output_type": "execute_result"
    }
   ],
   "source": [
    "C_new = np.zeros(3)\n",
    "C_new"
   ]
  },
  {
   "cell_type": "code",
   "execution_count": 13,
   "metadata": {},
   "outputs": [
    {
     "data": {
      "text/plain": [
       "array([2.95, 2.11, 1.38])"
      ]
     },
     "execution_count": 13,
     "metadata": {},
     "output_type": "execute_result"
    }
   ],
   "source": [
    "for r in range(Mio.shape[0]):\n",
    "    c_up = sum(X.flatten()* Mio[r])\n",
    "    c_down = sum(Mio[r])\n",
    "    c = c_up / c_down\n",
    "    C_new[r] = round(c, 2)\n",
    "C_new"
   ]
  },
  {
   "cell_type": "markdown",
   "metadata": {},
   "source": [
    "### updated Centers"
   ]
  },
  {
   "cell_type": "code",
   "execution_count": 14,
   "metadata": {},
   "outputs": [
    {
     "data": {
      "image/png": "[encoded data removed]",
      "text/latex": [
       "$\\displaystyle \\left[\\begin{matrix}2.95\\\\2.11\\\\1.38\\end{matrix}\\right]$"
      ],
      "text/plain": [
       "⎡2.95⎤\n",
       "⎢    ⎥\n",
       "⎢2.11⎥\n",
       "⎢    ⎥\n",
       "⎣1.38⎦"
      ]
     },
     "execution_count": 14,
     "metadata": {},
     "output_type": "execute_result"
    }
   ],
   "source": [
    "Matrix(C_new)"
   ]
  },
  {
   "cell_type": "markdown",
   "metadata": {},
   "source": [
    "\n",
    "<hr style=\"border: 5px solid tomato\">"
   ]
  },
  {
   "cell_type": "markdown",
   "metadata": {},
   "source": [
    "## Functional way"
   ]
  },
  {
   "cell_type": "markdown",
   "metadata": {},
   "source": [
    "### Distance Matrix"
   ]
  },
  {
   "cell_type": "code",
   "execution_count": 15,
   "metadata": {},
   "outputs": [],
   "source": [
    "def calculate_distance(X, C):\n",
    "    '''\n",
    "    takes\n",
    "        Data points    (n * n)\n",
    "        centers vector (c * 1)\n",
    "    returns \n",
    "        Distance Matrix (c * n)\n",
    "    '''\n",
    "    for i, x in enumerate(X.flatten()):\n",
    "        for j, c in enumerate(C):\n",
    "            D[j][i] = abs(x - c)\n",
    "    return D"
   ]
  },
  {
   "cell_type": "markdown",
   "metadata": {},
   "source": [
    "### Memebership matrix"
   ]
  },
  {
   "cell_type": "markdown",
   "metadata": {},
   "source": [
    "### $$ \\mu_{ij} = \\Sigma \\frac{d_i}{d_j} $$\n",
    "$$ where$$\n",
    "$$d_i = |x_i - c_j|$$\n",
    "$$d_j = |x_i - c_k|$$"
   ]
  },
  {
   "cell_type": "code",
   "execution_count": 16,
   "metadata": {},
   "outputs": [],
   "source": [
    "def update_membership(D, m = 2):\n",
    "    '''\n",
    "    Takes \n",
    "        D: Distance matrix (c * n)\n",
    "        m: fuzziness factor (default 2)\n",
    "    return\n",
    "        Membership matrix normalized (c * n)\n",
    "    '''\n",
    "    # loop through Distance Matrix columns\n",
    "    for c in range(D.shape[1]):\n",
    "        # list to append each column\n",
    "        a= []\n",
    "        # calculate the membership\n",
    "        for d in D[:, c]:\n",
    "            s = 0\n",
    "            for i, _ in enumerate(D[:, 0]):\n",
    "                s += ((d**m) / D[i, 0]**m)\n",
    "            a.append(s)\n",
    "        # normalize values\n",
    "        norm = [round(float(i)/sum(a), 2) for i in a]\n",
    "        # update membership matrix\n",
    "        Mio[:, c] = norm\n",
    "    return Mio"
   ]
  },
  {
   "cell_type": "markdown",
   "metadata": {},
   "source": [
    "### Update Centers"
   ]
  },
  {
   "cell_type": "code",
   "execution_count": 17,
   "metadata": {},
   "outputs": [],
   "source": [
    "def update_centers(Mio):\n",
    "    '''\n",
    "    takes\n",
    "        Membership matrix normalized (c*n)\n",
    "    returns\n",
    "        Centers (c * 1)\n",
    "    '''\n",
    "    for r in range(Mio.shape[0]):\n",
    "        c_up = sum(X.flatten()* Mio[r])\n",
    "        c_down = sum(Mio[r])\n",
    "        c = c_up / c_down\n",
    "        C_new[r] = round(c, 2)\n",
    "    return C_new"
   ]
  },
  {
   "cell_type": "markdown",
   "metadata": {},
   "source": [
    "### Run Cell"
   ]
  },
  {
   "cell_type": "code",
   "execution_count": 21,
   "metadata": {},
   "outputs": [
    {
     "name": "stdout",
     "output_type": "stream",
     "text": [
      "iteration: 0\n",
      "Best Margin = 0.96\n",
      "Centers\n",
      "[2.95 2.11 1.38]\n",
      "=================\n",
      "iteration: 2\n",
      "Best Margin = 0.77\n",
      "Centers\n",
      "[3.31 2.02 1.73]\n",
      "=================\n",
      "iteration: 4\n",
      "Best Margin = 0.77\n",
      "Centers\n",
      "[3.38 1.78 1.74]\n",
      "=================\n",
      "iteration: 6\n",
      "Best Margin = 0.77\n",
      "Centers\n",
      "[3.39 1.73 1.74]\n",
      "=================\n",
      "iteration: 8\n",
      "Best Margin = 0.77\n",
      "Centers\n",
      "[3.39 1.73 1.74]\n",
      "=================\n"
     ]
    }
   ],
   "source": [
    "\n",
    "# threshold = 0.2\n",
    "m = 2 ### let fuzziness factor = 2\n",
    "X = np.array([\n",
    "    [1, 2],\n",
    "    [3, 4]])\n",
    "\n",
    "C = np.array([0.01, 2.4, 3.2])\n",
    "\n",
    "max_margin = 1\n",
    "\n",
    "best_Mio, best_centers = 0, 0\n",
    "\n",
    "for i in range(10):\n",
    "    \n",
    "    D = calculate_distance(X, C)\n",
    "    \n",
    "    Mio = update_membership(D)\n",
    "    \n",
    "    C = update_centers(Mio)\n",
    "    \n",
    "    margin = np.matrix(Mio).max()\n",
    "    \n",
    "    if margin < max_margin:\n",
    "#         print(f\"Best Margin = {margin}\")\n",
    "        max_margin = margin\n",
    "        best_centers = C\n",
    "        best_Mio = Mio\n",
    "        \n",
    "    if i % 2 == 0:\n",
    "        print(f\"iteration: {i}\")\n",
    "        print(f\"Best Margin = {max_margin}\")\n",
    "        print(\"Centers\")\n",
    "        print(C)\n",
    "        print(\"=================\")"
   ]
  },
  {
   "cell_type": "code",
   "execution_count": 22,
   "metadata": {},
   "outputs": [
    {
     "data": {
      "image/png": "[encoded data removed]",
      "text/latex": [
       "$\\displaystyle \\left[\\begin{matrix}0.84 & 0.93 & 0.05 & 0.03\\\\0.08 & 0.04 & 0.48 & 0.48\\\\0.08 & 0.03 & 0.47 & 0.48\\end{matrix}\\right]$"
      ],
      "text/plain": [
       "⎡0.84  0.93  0.05  0.03⎤\n",
       "⎢                      ⎥\n",
       "⎢0.08  0.04  0.48  0.48⎥\n",
       "⎢                      ⎥\n",
       "⎣0.08  0.03  0.47  0.48⎦"
      ]
     },
     "execution_count": 22,
     "metadata": {},
     "output_type": "execute_result"
    }
   ],
   "source": [
    "Matrix(best_Mio)"
   ]
  },
  {
   "cell_type": "code",
   "execution_count": 23,
   "metadata": {},
   "outputs": [
    {
     "data": {
      "image/png": "[encoded data removed]",
      "text/latex": [
       "$\\displaystyle \\left[\\begin{matrix}1.61\\\\3.26\\\\3.27\\end{matrix}\\right]$"
      ],
      "text/plain": [
       "⎡1.61⎤\n",
       "⎢    ⎥\n",
       "⎢3.26⎥\n",
       "⎢    ⎥\n",
       "⎣3.27⎦"
      ]
     },
     "execution_count": 23,
     "metadata": {},
     "output_type": "execute_result"
    }
   ],
   "source": [
    "Matrix(best_centers)"
   ]
  },
  {
   "cell_type": "markdown",
   "metadata": {},
   "source": [
    "$$Such\\; Membership\\; (\\mu)\\;\\; indicates\\; that\\;$$\n",
    "$$ X = 1 \\in C_1\\; with\\; 85\\% $$\n",
    "$$$$\n",
    "$$ X = 2 \\in C_2\\; with\\; 93\\% $$\n",
    "$$$$\n",
    "$$ X = 3 \\in C_3\\; with\\; 48\\% $$\n",
    "$$$$\n",
    "$$ X = 4 \\in C_3, C_4\\; with\\; 48\\% $$"
   ]
  },
  {
   "cell_type": "markdown",
   "metadata": {},
   "source": [
    "\n",
    "<hr style=\"border: 5px solid tomato\">"
   ]
  },
  {
   "cell_type": "markdown",
   "metadata": {},
   "source": [
    "\n",
    "<hr style=\"border: 5px solid tomato\">"
   ]
  }
 ],
 "metadata": {
  "kernelspec": {
   "display_name": "Python 3",
   "language": "python",
   "name": "python3"
  },
  "language_info": {
   "codemirror_mode": {
    "name": "ipython",
    "version": 3
   },
   "file_extension": ".py",
   "mimetype": "text/x-python",
   "name": "python",
   "nbconvert_exporter": "python",
   "pygments_lexer": "ipython3",
   "version": "3.7.2"
  }
 },
 "nbformat": 4,
 "nbformat_minor": 2
}
